{
 "cells": [
  {
   "cell_type": "code",
   "execution_count": 61,
   "metadata": {
    "collapsed": true
   },
   "outputs": [],
   "source": [
    "import tensorflow as tf\n",
    "#import scipy\n",
    "import numpy\n",
    "import imageio\n",
    "\n",
    "def get_tf_image(im_path, r, c):\n",
    "    #get tf image tensor\n",
    "    image_string = tf.read_file(im_path)\n",
    "    image_decoded = tf.image.decode_image(image_string)\n",
    "    #image_resized = tf.image.resize_images(image_decoded, [28, 28])\n",
    "    image_resized = tf.image.resize_image_with_crop_or_pad(image_decoded, r, c)\n",
    "    return image_resized\n",
    "    \n",
    "# def imread(path):\n",
    "#     print(path)\n",
    "#     img = imageio.imread(path).astype(np.float)\n",
    "#     if len(img.shape) == 2:\n",
    "#         # grayscale\n",
    "#         img = np.dstack((img,img,img))\n",
    "#     elif img.shape[2] == 4:\n",
    "#         # PNG with alpha channel\n",
    "#         img = img[:,:,:3]\n",
    "#     return img\n",
    "\n",
    "#Load images\n",
    "im_src_path = \"data/brad_pitt.jpg\"#\n",
    "im_sty_path = \"data/starry_night.jpg\"\n",
    "\n",
    "\n",
    "im_src = get_tf_image(im_src_path, 356, 300)\n",
    "im_sty = get_tf_image(im_sty_path, 300, 400)\n",
    "summary_src = tf.summary.image(\"src\", tf.expand_dims(im_src, 0),max_outputs=3, collections=None)\n",
    "summary_sty = tf.summary.image(\"sty\", tf.expand_dims(im_sty, 0),max_outputs=3, collections=None)\n"
   ]
  },
  {
   "cell_type": "code",
   "execution_count": 63,
   "metadata": {},
   "outputs": [
    {
     "name": "stdout",
     "output_type": "stream",
     "text": [
      "163\n",
      "3\n",
      "here\n"
     ]
    }
   ],
   "source": [
    "dirpath = 'logs'\n",
    "if tf.gfile.Exists(dirpath):\n",
    "       tf.gfile.DeleteRecursively(dirpath) \n",
    "tf.gfile.MkDir(dirpath)\n",
    "\n",
    "sess = tf.InteractiveSession()\n",
    "a= tf.constant([\"data/brad_pitt.jpg\"])\n",
    "summary_writer = tf.summary.FileWriter(dirpath, graph=a.graph)\n",
    "\n",
    "im_sum = tf.reduce_sum(im_src)\n",
    "im_s_sum = tf.reduce_sum(im_sty)\n",
    "\n",
    "#summary_writer.add_summary(summary_src.eval())\n",
    "summary_writer.add_summary(summary_sty.eval())\n",
    "print(im_sum.eval())\n",
    "print(im_s_sum.eval())\n",
    "print('here')\n",
    "sess.close()"
   ]
  },
  {
   "cell_type": "code",
   "execution_count": 2,
   "metadata": {},
   "outputs": [
    {
     "name": "stdout",
     "output_type": "stream",
     "text": [
      "/usr/local/bin/pip\r\n"
     ]
    }
   ],
   "source": [
    "!which pip"
   ]
  },
  {
   "cell_type": "code",
   "execution_count": 37,
   "metadata": {},
   "outputs": [
    {
     "name": "stderr",
     "output_type": "stream",
     "text": [
      "/home/git/neural-art/venv2/lib/python3.5/site-packages/ipykernel_launcher.py:2: DeprecationWarning: `imread` is deprecated!\n",
      "`imread` is deprecated in SciPy 1.0.0, and will be removed in 1.2.0.\n",
      "Use ``imageio.imread`` instead.\n",
      "  \n"
     ]
    },
    {
     "data": {
      "text/plain": [
       "(300, 400, 3)"
      ]
     },
     "execution_count": 37,
     "metadata": {},
     "output_type": "execute_result"
    }
   ],
   "source": [
    "from scipy import misc\n",
    "i = misc.imread('data/starry_night.jpg')\n",
    "i.shape"
   ]
  },
  {
   "cell_type": "code",
   "execution_count": 51,
   "metadata": {
    "collapsed": true
   },
   "outputs": [],
   "source": [
    "!rm -rf logs/"
   ]
  }
 ],
 "metadata": {
  "kernelspec": {
   "display_name": "Python 3",
   "language": "python",
   "name": "python3"
  },
  "language_info": {
   "codemirror_mode": {
    "name": "ipython",
    "version": 3
   },
   "file_extension": ".py",
   "mimetype": "text/x-python",
   "name": "python",
   "nbconvert_exporter": "python",
   "pygments_lexer": "ipython3",
   "version": "3.5.3"
  }
 },
 "nbformat": 4,
 "nbformat_minor": 2
}
