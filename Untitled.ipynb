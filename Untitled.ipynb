{
 "cells": [
  {
   "cell_type": "code",
   "execution_count": 15,
   "metadata": {
    "collapsed": false
   },
   "outputs": [],
   "source": [
    "import tensorflow as tf\n",
    "\n",
    "def get_tf_image(im_path):\n",
    "    #get tf image tensor\n",
    "    reader = tf.WholeFileReader()\n",
    "    f_q = tf.train.string_input_producer([im_path])\n",
    "    key, value = reader.read(f_q)\n",
    "    return tf.image.decode_image(value)\n",
    "\n",
    "#Load images\n",
    "im_src_path = 'data/brad_pitt.jpg'\n",
    "im_sty_path = 'data/starry_night.jpg'\n",
    "\n",
    "im_src = get_tf_image(im_src_path)\n",
    "im_sty = get_tf_image(im_sty_path)"
   ]
  },
  {
   "cell_type": "code",
   "execution_count": null,
   "metadata": {
    "collapsed": false
   },
   "outputs": [],
   "source": [
    "dirpath = 'logs'\n",
    "if tf.gfile.Exists(dirpath):\n",
    "       tf.gfile.DeleteRecursively(dirpath) \n",
    "tf.gfile.MkDir(dirpath)\n",
    "\n",
    "y_g = tf.constant([[1,0]], dtype=tf.float32)\n",
    "#summary_writer = tf.summary.FileWriter(dirpath, graph=im_src.graph)\n",
    "with tf.Session() as sess:\n",
    "    summary_writer = tf.summary.FileWriter(dirpath, graph=sess.graph)\n",
    "    im1 = sess.run(im_src)\n",
    "    im2 = sess.run(im_sty)\n",
    "    summary_writer.add_summary(im1,1)\n",
    "    summary_writer.add_summary(im1,2)"
   ]
  },
  {
   "cell_type": "code",
   "execution_count": null,
   "metadata": {
    "collapsed": true
   },
   "outputs": [],
   "source": [
    "ls"
   ]
  }
 ],
 "metadata": {
  "kernelspec": {
   "display_name": "Python 2",
   "language": "python",
   "name": "python2"
  },
  "language_info": {
   "codemirror_mode": {
    "name": "ipython",
    "version": 2
   },
   "file_extension": ".py",
   "mimetype": "text/x-python",
   "name": "python",
   "nbconvert_exporter": "python",
   "pygments_lexer": "ipython2",
   "version": "2.7.6"
  }
 },
 "nbformat": 4,
 "nbformat_minor": 2
}
